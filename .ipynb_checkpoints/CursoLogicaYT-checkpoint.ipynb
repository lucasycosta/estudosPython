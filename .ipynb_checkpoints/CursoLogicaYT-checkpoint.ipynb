{
 "cells": [
  {
   "cell_type": "code",
   "execution_count": null,
   "id": "b9039545",
   "metadata": {},
   "outputs": [],
   "source": [
    "print('Hello Word!')"
   ]
  },
  {
   "cell_type": "code",
   "execution_count": null,
   "id": "85733c93",
   "metadata": {},
   "outputs": [],
   "source": [
    "#AULA1 - declaração de variável e print do resultado\n",
    "\n",
    "salario = input('Qual seu salario?: ')\n",
    "horasMes = input('Quantas horas por mes vc trabalha?: ')\n",
    "salarioHoraMes = int(salario)/int(horasMes)\n",
    "print('Seu salario por hora em um mês é: R$', salarioHoraMes)"
   ]
  },
  {
   "cell_type": "code",
   "execution_count": null,
   "id": "1703ed6a",
   "metadata": {},
   "outputs": [],
   "source": [
    "#AULA2 - condicionais\n",
    "# if, elif e else\n",
    "\n",
    "trabalhoTerminado = True\n",
    "if trabalhoTerminado == True:\n",
    "    print(\"Vamos sair!!!\")\n",
    "else:\n",
    "    print(\"Não terminei, então não posso ir\")\n",
    "    \n",
    "print(\"------------------------------------------\")\n",
    "\n",
    "estouLivre = False\n",
    "if estouLivre == True:\n",
    "    print(\"Posso te ajudar\")\n",
    "else:\n",
    "    print(\"Meu irmão irá te ajudar\")\n",
    "\n",
    "print(\"------------------------------------------\")\n",
    "\n",
    "numAtrasos = input(\"Quantas vezes você chegou atrasado?: \")\n",
    "if int(numAtrasos) >= 3:\n",
    "    print(\"Não pode entrar na aula!! Você está suspenso\")\n",
    "elif int(numAtrasos) == 1:\n",
    "    print(\"Pode entrar, mas caso se atrase mais duas vezes, será suspenso!\")\n",
    "elif int(numAtrasos) == 1:\n",
    "    print(\"Pode entrar, mas caso se atrase mais uma vezes, será suspenso!\")\n",
    "else:\n",
    "    print(\"Pode entrar!\")\n"
   ]
  },
  {
   "cell_type": "code",
   "execution_count": null,
   "id": "d29168d8",
   "metadata": {},
   "outputs": [],
   "source": [
    "#AULA3 - laços de repetição\n",
    "\n",
    "valor = int(input(\"valor maximo: \"))\n",
    "valorInicial = 1\n",
    "\n",
    "for numero in range(valorInicial, valor+1):\n",
    "    print(numero)"
   ]
  },
  {
   "cell_type": "code",
   "execution_count": null,
   "id": "0cd546ac",
   "metadata": {},
   "outputs": [],
   "source": [
    "#AULA4 - coleções e listas\n",
    "\n",
    "idades = [20,50,14,68,26]\n",
    "total = 0\n",
    "for idade in idades:\n",
    "    total = total + idade\n",
    "print(total)"
   ]
  },
  {
   "cell_type": "code",
   "execution_count": null,
   "id": "63bdb136",
   "metadata": {},
   "outputs": [],
   "source": [
    "#PROJETO1 - fatorial de um numero\n",
    "\n",
    "numero = int(input(\"Insira um numero: \"))\n",
    "if numero > 0:\n",
    "    fatorial = 1\n",
    "    for item in range(1, numero+1):\n",
    "        fatorial = fatorial * item\n",
    "    print(fatorial)\n",
    "else:\n",
    "    print(\"numero invalido\")"
   ]
  },
  {
   "cell_type": "code",
   "execution_count": null,
   "id": "bb296478",
   "metadata": {},
   "outputs": [],
   "source": [
    "#PROJETO2 - chute de um numero\n",
    "import random\n",
    "\n",
    "valorAleatorio = random.randint(1,10)\n",
    "acertou = False\n",
    "\n",
    "while acertou == False:\n",
    "    chute = int(input(\"Chute um numero: \"))\n",
    "    if chute > valorAleatorio:\n",
    "        print(\"Vai com calma\")\n",
    "    elif chute < valorAleatorio:\n",
    "        print(\"Mais vontade\")\n",
    "    elif chute == valorAleatorio:\n",
    "        acertou = True\n",
    "        print(\"Na mosca\")"
   ]
  },
  {
   "cell_type": "code",
   "execution_count": 7,
   "id": "2d338d1f",
   "metadata": {},
   "outputs": [
    {
     "name": "stdout",
     "output_type": "stream",
     "text": [
      "Qual velocidade voce estava? 79\n",
      "Qual era a velocidade maxima da via?: 80\n",
      "Nao houve multa\n"
     ]
    }
   ],
   "source": [
    "#PROJETO3 - medidor de velocidade\n",
    "\n",
    "velocidade = int(input(\"Qual velocidade voce estava? \"))\n",
    "velocidadeMaxima = int(input(\"Qual era a velocidade maxima da via?: \"))\n",
    "\n",
    "if velocidade <= velocidadeMaxima:\n",
    "    print(\"Nao houve multa\")\n",
    "elif velocidade > velocidadeMaxima and velocidade <= velocidadeMaxima+10:\n",
    "    print(\"Multa leve\")\n",
    "elif velocidade >= velocidadeMaxima+11 and velocidade <= velocidadeMaxima+20:\n",
    "    print(\"Multa grave\")\n",
    "elif velocidade > velocidadeMaxima+20:\n",
    "    print(\"Multa gravissima\")\n"
   ]
  },
  {
   "cell_type": "code",
   "execution_count": null,
   "id": "c47a7a3d",
   "metadata": {},
   "outputs": [],
   "source": []
  },
  {
   "cell_type": "code",
   "execution_count": null,
   "id": "3b30a8f3",
   "metadata": {},
   "outputs": [],
   "source": []
  }
 ],
 "metadata": {
  "kernelspec": {
   "display_name": "Python 3 (ipykernel)",
   "language": "python",
   "name": "python3"
  },
  "language_info": {
   "codemirror_mode": {
    "name": "ipython",
    "version": 3
   },
   "file_extension": ".py",
   "mimetype": "text/x-python",
   "name": "python",
   "nbconvert_exporter": "python",
   "pygments_lexer": "ipython3",
   "version": "3.10.4"
  }
 },
 "nbformat": 4,
 "nbformat_minor": 5
}
